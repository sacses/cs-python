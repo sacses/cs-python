{
 "cells": [
  {
   "cell_type": "markdown",
   "metadata": {},
   "source": [
    "#### **Connect to the database where the .csv data file has been imported as a table**"
   ]
  },
  {
   "cell_type": "code",
   "execution_count": 1,
   "metadata": {},
   "outputs": [],
   "source": [
    "import sqlite3\n",
    "from sqlite3 import Error\n",
    "\n",
    "\n",
    "def connection(db_file):\n",
    "    \"\"\" create a database connection to the SQLite database specified\n",
    "    by the db_file\n",
    "    :param db_file: database file\n",
    "    :return: Connection object or None\n",
    "    \"\"\"\n",
    "    conn = None\n",
    "    try:\n",
    "        conn = sqlite3.connect(db_file)\n",
    "    except Error as e:\n",
    "        print(e)\n",
    "\n",
    "    return conn\n",
    "\n",
    "conn = connection('../data/input/chinook.db')"
   ]
  },
  {
   "cell_type": "markdown",
   "metadata": {},
   "source": [
    "**A new table is created with the clean records**"
   ]
  },
  {
   "cell_type": "code",
   "execution_count": 2,
   "metadata": {},
   "outputs": [],
   "source": [
    "def create_clean_sample(conn):\n",
    "    \"\"\"\n",
    "    Creates table with clean records from the sample dataset\n",
    "    :param conn: connection object\n",
    "    :return:None\n",
    "    \"\"\"\n",
    "    cur = conn.cursor()\n",
    "    cur.execute(\n",
    "        f\"\"\"Create TABLE IF NOT EXISTS cleaned_sample AS\n",
    "            SELECT\n",
    "            user_id,\n",
    "            datetime(substr(registration_date , 7, 4) || '-' || substr(registration_date , 4, 2) || '-' || substr(registration_date , 1, 2) || ' ' || substr(registration_date, 12, 2) || ':' || substr(registration_date, 15, 2) || ':' || substr(registration_date, 18, 2)) as registration_date,\n",
    "            REPLACE(REPLACE(app_version, '#N/A', 'unknown_version'), 'unknown', 'unknown_version') as app_version,\n",
    "            REPLACE(REPLACE(REPLACE(user_channel, '#N/A', 'unknown_channel'), 'n/a', 'unknown_channel'), 'unknown', 'unknown_channel') as user_channel,\n",
    "            datetime(substr(submission_date, 7, 4) || '-' || substr(submission_date, 4, 2) || '-' || substr(submission_date, 1, 2) || ' ' || substr(submission_date, 12, 2) || ':' || substr(submission_date, 15, 2) || ':' || substr(submission_date, 18, 2)) as submission_date,\n",
    "            REPLACE(REPLACE(user_platform, '#N/A', 'unknown_platform'), 'n/a', 'unknown_platform') as user_platform,\n",
    "            LOWER(REPLACE(REPLACE(City, '#N/A', 'unknown_city'), 'n/a', 'unknown_city')) as city,\n",
    "            LOWER(Country) as country\n",
    "            FROM taxfix\"\"\"\n",
    "    )\n",
    "\n",
    "    return None\n",
    "\n",
    "create_clean_sample(conn)"
   ]
  },
  {
   "cell_type": "code",
   "execution_count": null,
   "metadata": {},
   "outputs": [],
   "source": []
  },
  {
   "cell_type": "markdown",
   "metadata": {},
   "source": [
    "#### **What is the most common channel for acquiring users? What is the second most common channel for acquiring users?**"
   ]
  },
  {
   "cell_type": "code",
   "execution_count": 3,
   "metadata": {},
   "outputs": [
    {
     "name": "stdout",
     "output_type": "stream",
     "text": [
      "'organic' is the 1 channel with 9303 users acquired\n",
      "'uac' is the 2 channel with 5587 users acquired\n"
     ]
    }
   ],
   "source": [
    "def get_top_n_acquirers(conn, n):\n",
    "    \"\"\"\n",
    "    Selects most successful acquirer channels\n",
    "    :param conn: connection object\n",
    "    :param n: number of elements in ranking, descending\n",
    "    :return:\n",
    "    \"\"\"\n",
    "    cur = conn.cursor()\n",
    "    cur.execute(\n",
    "        f\"\"\"SELECT user_channel AS channel,\n",
    "        count(user_id) AS number_users\n",
    "        FROM cleaned_sample\n",
    "        GROUP BY user_channel\n",
    "        ORDER BY number_users DESC \n",
    "        LIMIT {n}\"\"\"\n",
    "    )\n",
    "\n",
    "    rows = cur.fetchall()\n",
    "\n",
    "    for i, j in enumerate(rows):\n",
    "        print(f\"'{j[0]}' is the {i+1} channel with {j[1]} users acquired\")\n",
    "\n",
    "    return None\n",
    "\n",
    "\n",
    "#Execute the previously defined function\n",
    "get_top_n_acquirers(conn, 2)"
   ]
  },
  {
   "cell_type": "markdown",
   "metadata": {},
   "source": [
    "#### **How much time does it usually take for a user from their registration to submit their tax declaration?**"
   ]
  },
  {
   "cell_type": "code",
   "execution_count": 4,
   "metadata": {},
   "outputs": [
    {
     "name": "stdout",
     "output_type": "stream",
     "text": [
      "Average time a user took to complete their tax submission since they've registered was 12.0 hours\n"
     ]
    }
   ],
   "source": [
    "def get_avg_submission_time(conn):\n",
    "    \"\"\"\n",
    "    Selects and prints the average time a user takes to submit their tax\n",
    "    declaration since they registered\n",
    "    :param conn: connection object\n",
    "    :return: integer of number of average days\n",
    "    \"\"\"\n",
    "    cur = conn.cursor()\n",
    "    cur.execute(\n",
    "        f\"\"\"\n",
    "        select \n",
    "        round(avg(STRFTIME('%s' ,submission_date) - STRFTIME('%s' ,registration_date)) * 1.0 / 60 / 60) as avg_time\n",
    "        from cleaned_sample\n",
    "        where submission_date is not null\n",
    "        \"\"\"\n",
    "    )\n",
    "\n",
    "    row = cur.fetchall()\n",
    "    hours = row[0][0]\n",
    "\n",
    "    print(\n",
    "        f\"Average time a user took to complete their tax submission \"\n",
    "        f\"since they've registered was {hours} hours\"\n",
    "    )\n",
    "    \n",
    "    return hours\n",
    "\n",
    "\n",
    "#Execute the previously defined function and assign the value to variable for later user in visualization.\n",
    "avg_time = get_avg_submission_time(conn)"
   ]
  },
  {
   "cell_type": "code",
   "execution_count": 5,
   "metadata": {},
   "outputs": [
    {
     "data": {
      "text/plain": [
       "12.0"
      ]
     },
     "execution_count": 5,
     "metadata": {},
     "output_type": "execute_result"
    }
   ],
   "source": [
    "avg_time"
   ]
  },
  {
   "cell_type": "markdown",
   "metadata": {},
   "source": [
    "#### **Include a data visualization**"
   ]
  },
  {
   "cell_type": "code",
   "execution_count": 6,
   "metadata": {},
   "outputs": [
    {
     "data": {
      "image/png": "[encoded data removed]",
      "text/plain": [
       "<Figure size 1296x576 with 1 Axes>"
      ]
     },
     "metadata": {
      "needs_background": "light"
     },
     "output_type": "display_data"
    }
   ],
   "source": [
    "%matplotlib inline\n",
    "\n",
    "import pandas as pd\n",
    "import matplotlib.pyplot as plt\n",
    "\n",
    "\n",
    "def get_submission_time_user(conn):\n",
    "    \"\"\"\n",
    "    Provides list user, submission and registration dates, and difference\n",
    "    :param conn: connection object\n",
    "    :return:list\n",
    "    \"\"\"\n",
    "\n",
    "    cur = conn.cursor()\n",
    "    cur.execute(\n",
    "        f\"\"\"\n",
    "        select \n",
    "        user_id,\n",
    "        submission_date,\n",
    "        registration_date,\n",
    "        (STRFTIME('%s' ,submission_date) - STRFTIME('%s' ,registration_date)) *1.0 / 60 / 60 as difference\n",
    "        from cleaned_sample\n",
    "        order by difference DESC\"\"\"\n",
    "    )\n",
    "\n",
    "    rows = cur.fetchall()\n",
    "\n",
    "    return rows\n",
    "\n",
    "\n",
    "def create_df(timings_list):\n",
    "\n",
    "    data = timings_list\n",
    "    cols = ['user', 'submission_time', 'registration_time', 'hours_difference']\n",
    "    df_user_timings = pd.DataFrame(data, columns=cols)\n",
    "    df_user_timings['user'] = df_user_timings['user'].astype('category')\n",
    "\n",
    "    return df_user_timings\n",
    "\n",
    "\n",
    "def create_viz(df, constant):\n",
    "    mean_hours = constant\n",
    "\n",
    "    series_user_timing = df['hours_difference']\n",
    "    data_viz = series_user_timing.plot.hist(\n",
    "        bins=12, figsize=(18, 8), xlabel='days', title='Histogram of Hours to Submission'\n",
    "    )\n",
    "    # Plot mean dashed line\n",
    "    data_viz.axvline(mean_hours, color='k', linestyle='dashed', linewidth=1)\n",
    "\n",
    "    # Add text to line\n",
    "    min_ylim, max_ylim = plt.ylim()\n",
    "    data_viz.text(mean_hours * 1.03, max_ylim * 0.9, f'Mean: {mean_hours} hours')\n",
    "\n",
    "    # Export viz to .png file\n",
    "    data_viz.figure.savefig(\"../data/output/avg_sub_time_user.png\", facecolor='w')\n",
    "\n",
    "    return None\n",
    "\n",
    "\n",
    "#Execute previously defined function\n",
    "user_timings = get_submission_time_user(conn)\n",
    "df_user_timings = create_df(user_timings)\n",
    "create_viz(df_user_timings, avg_time)"
   ]
  },
  {
   "cell_type": "markdown",
   "metadata": {},
   "source": [
    "Having a look to the histogram the uniformity of the distribution can be appreciated. The submission time ranges from barely seconds up to almost a whole day, since a user is registered. Thus, based on the sample datase it could be infered that once the user has registered, they have up to 24 hours to submit their tax declaration."
   ]
  },
  {
   "cell_type": "markdown",
   "metadata": {},
   "source": [
    "#### **The conversion rate is defined as “users that submit tax declarations” / “users that register”. Try to forecast the future daily values of the conversion rate. How would you take into consideration the seasonality effect?**"
   ]
  },
  {
   "cell_type": "code",
   "execution_count": 7,
   "metadata": {},
   "outputs": [],
   "source": [
    "def get_raw_table(conn):\n",
    "    \"\"\"\n",
    "    Selects number of registered users, submissions and their relation\n",
    "    by registration date\n",
    "    :param conn:connection object\n",
    "    :return: list of tuples\n",
    "    \"\"\"\n",
    "    cur = conn.cursor()\n",
    "    cur.execute(\n",
    "        f\"\"\"SELECT * FROM cleaned_sample\"\"\"\n",
    "    )\n",
    "\n",
    "    rows = cur.fetchall()\n",
    "\n",
    "    return rows\n",
    "\n",
    "def \n",
    "\n"
   ]
  }
 ],
 "metadata": {
  "kernelspec": {
   "display_name": "Python [conda env:cs_python]",
   "language": "python",
   "name": "conda-env-cs_python-py"
  },
  "language_info": {
   "codemirror_mode": {
    "name": "ipython",
    "version": 3
   },
   "file_extension": ".py",
   "mimetype": "text/x-python",
   "name": "python",
   "nbconvert_exporter": "python",
   "pygments_lexer": "ipython3",
   "version": "3.7.5"
  }
 },
 "nbformat": 4,
 "nbformat_minor": 4
}
